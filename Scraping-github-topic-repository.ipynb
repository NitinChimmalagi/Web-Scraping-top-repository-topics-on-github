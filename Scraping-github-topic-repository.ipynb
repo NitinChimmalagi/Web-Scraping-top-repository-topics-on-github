{
 "cells": [
  {
   "cell_type": "code",
   "execution_count": 1,
   "id": "121a4872-ad95-4928-b465-b5dea3f3bf8f",
   "metadata": {},
   "outputs": [],
   "source": [
    "import requests"
   ]
  },
  {
   "cell_type": "code",
   "execution_count": 2,
   "id": "9d9505dc-1e84-4c8c-a159-d90db0321c36",
   "metadata": {},
   "outputs": [],
   "source": [
    "topics_url = 'https://github.com/topics'"
   ]
  },
  {
   "cell_type": "code",
   "execution_count": 3,
   "id": "9fe5f7f1-2bec-4a11-8608-09ab8c404fb8",
   "metadata": {},
   "outputs": [],
   "source": [
    "response = requests.get(topics_url)"
   ]
  },
  {
   "cell_type": "code",
   "execution_count": 4,
   "id": "e2d5dc99-cc02-4b21-a5df-92bcb19e31b9",
   "metadata": {},
   "outputs": [
    {
     "data": {
      "text/plain": [
       "200"
      ]
     },
     "execution_count": 4,
     "metadata": {},
     "output_type": "execute_result"
    }
   ],
   "source": [
    "response.status_code"
   ]
  },
  {
   "cell_type": "code",
   "execution_count": 5,
   "id": "742024c4-1c82-4e18-bb89-edd4284d7d6e",
   "metadata": {},
   "outputs": [
    {
     "data": {
      "text/plain": [
       "170827"
      ]
     },
     "execution_count": 5,
     "metadata": {},
     "output_type": "execute_result"
    }
   ],
   "source": [
    "len(response.text)"
   ]
  },
  {
   "cell_type": "code",
   "execution_count": 6,
   "id": "40457f65-1fde-4831-9c8c-3d81ac9b6ede",
   "metadata": {},
   "outputs": [],
   "source": [
    "page_contents = response.text"
   ]
  },
  {
   "cell_type": "code",
   "execution_count": 7,
   "id": "d090e130-4286-4e74-bf4e-57c5e852f93a",
   "metadata": {},
   "outputs": [
    {
     "data": {
      "text/plain": [
       "'\\n\\n<!DOCTYPE html>\\n<html\\n  lang=\"en\"\\n  \\n  data-color-mode=\"auto\" data-light-theme=\"light\" data-dark-theme=\"dark\"\\n  data-a11y-animated-images=\"system\" data-a11y-link-underlines=\"true\"\\n  >\\n\\n\\n\\n\\n  <head>\\n    <meta charset=\"utf-8\">\\n  <link rel=\"dns-prefetch\" href=\"https://github.githubassets.com\">\\n  <link rel=\"dns-prefetch\" href=\"https://avatars.githubusercontent.com\">\\n  <link rel=\"dns-prefetch\" href=\"https://github-cloud.s3.amazonaws.com\">\\n  <link rel=\"dns-prefetch\" href=\"https://user-images.githubusercontent.com/\">\\n  <link rel=\"preconnect\" href=\"https://github.githubassets.com\" crossorigin>\\n  <link rel=\"preconnect\" href=\"https://avatars.githubusercontent.com\">\\n\\n  \\n\\n  <link crossorigin=\"anonymous\" media=\"all\" rel=\"stylesheet\" href=\"https://github.githubassets.com/assets/light-0eace2597ca3.css\" /><link crossorigin=\"anonymous\" media=\"all\" rel=\"stylesheet\" href=\"https://github.githubassets.com/assets/dark-a167e256da9c.css\" /><link data-color-theme=\"dark_dimmed\" crossorigin=\"anonymous\" media=\"a'"
      ]
     },
     "execution_count": 7,
     "metadata": {},
     "output_type": "execute_result"
    }
   ],
   "source": [
    "page_contents[:1000]"
   ]
  },
  {
   "cell_type": "code",
   "execution_count": 8,
   "id": "6bcf797d-7e10-4aeb-9311-7896aacceddf",
   "metadata": {},
   "outputs": [],
   "source": [
    "with open('webpage.html','w',encoding='utf-8') as f:\n",
    "    f.write(page_contents)"
   ]
  },
  {
   "cell_type": "markdown",
   "id": "b2b83e88-0fd8-4633-90a3-ec0d2d477d13",
   "metadata": {},
   "source": [
    "## Using beautifulSoup to Parse and extract Information"
   ]
  },
  {
   "cell_type": "code",
   "execution_count": 9,
   "id": "5c5fd4da-8915-42cc-8ccf-c51e7a8b12c1",
   "metadata": {},
   "outputs": [],
   "source": [
    "from bs4 import BeautifulSoup"
   ]
  },
  {
   "cell_type": "code",
   "execution_count": 10,
   "id": "ce2da6a4-9e03-49af-a41e-fd178abc10ad",
   "metadata": {},
   "outputs": [],
   "source": [
    "doc = BeautifulSoup(page_contents, 'html.parser')"
   ]
  },
  {
   "cell_type": "code",
   "execution_count": 11,
   "id": "99e6475a-e5e5-48d0-bf5a-09270334ccb3",
   "metadata": {},
   "outputs": [],
   "source": [
    "topic_title_tags = doc.find_all('p',{'class':'f3 lh-condensed mb-0 mt-1 Link--primary'})"
   ]
  },
  {
   "cell_type": "code",
   "execution_count": 12,
   "id": "0eb4ffa3-a65e-4a32-b242-e5b035f00603",
   "metadata": {},
   "outputs": [
    {
     "data": {
      "text/plain": [
       "30"
      ]
     },
     "execution_count": 12,
     "metadata": {},
     "output_type": "execute_result"
    }
   ],
   "source": [
    "len(topic_title_tags)"
   ]
  },
  {
   "cell_type": "code",
   "execution_count": 13,
   "id": "b6b43dee-2a89-430a-b5a4-1d1f6f1aa168",
   "metadata": {},
   "outputs": [
    {
     "data": {
      "text/plain": [
       "[<p class=\"f3 lh-condensed mb-0 mt-1 Link--primary\">3D</p>,\n",
       " <p class=\"f3 lh-condensed mb-0 mt-1 Link--primary\">Ajax</p>,\n",
       " <p class=\"f3 lh-condensed mb-0 mt-1 Link--primary\">Algorithm</p>,\n",
       " <p class=\"f3 lh-condensed mb-0 mt-1 Link--primary\">Amp</p>,\n",
       " <p class=\"f3 lh-condensed mb-0 mt-1 Link--primary\">Android</p>]"
      ]
     },
     "execution_count": 13,
     "metadata": {},
     "output_type": "execute_result"
    }
   ],
   "source": [
    "topic_title_tags[:5]"
   ]
  },
  {
   "cell_type": "code",
   "execution_count": null,
   "id": "dc7bc4db-e5f5-43b2-b706-2ff2ffad887b",
   "metadata": {},
   "outputs": [],
   "source": []
  },
  {
   "cell_type": "code",
   "execution_count": 14,
   "id": "cf8d4b22-f9b5-45e1-aeb3-af9a320607d4",
   "metadata": {},
   "outputs": [],
   "source": [
    "topic_desc_tags = doc.find_all('p',{'class':'f5 color-fg-muted mb-0 mt-1'})"
   ]
  },
  {
   "cell_type": "code",
   "execution_count": 15,
   "id": "9dde4a14-e2bb-4b07-9565-96e1320f71ad",
   "metadata": {},
   "outputs": [
    {
     "data": {
      "text/plain": [
       "30"
      ]
     },
     "execution_count": 15,
     "metadata": {},
     "output_type": "execute_result"
    }
   ],
   "source": [
    "len(topic_desc_tags)"
   ]
  },
  {
   "cell_type": "code",
   "execution_count": 16,
   "id": "cbe5f325-5694-46da-9b16-e237d213ca76",
   "metadata": {},
   "outputs": [
    {
     "data": {
      "text/plain": [
       "[<p class=\"f5 color-fg-muted mb-0 mt-1\">\n",
       "           3D refers to the use of three-dimensional graphics, modeling, and animation in various industries.\n",
       "         </p>,\n",
       " <p class=\"f5 color-fg-muted mb-0 mt-1\">\n",
       "           Ajax is a technique for creating interactive web applications.\n",
       "         </p>,\n",
       " <p class=\"f5 color-fg-muted mb-0 mt-1\">\n",
       "           Algorithms are self-contained sequences that carry out a variety of tasks.\n",
       "         </p>,\n",
       " <p class=\"f5 color-fg-muted mb-0 mt-1\">\n",
       "           Amp is a non-blocking concurrency library for PHP.\n",
       "         </p>,\n",
       " <p class=\"f5 color-fg-muted mb-0 mt-1\">\n",
       "           Android is an operating system built by Google designed for mobile devices.\n",
       "         </p>]"
      ]
     },
     "execution_count": 16,
     "metadata": {},
     "output_type": "execute_result"
    }
   ],
   "source": [
    "topic_desc_tags[:5]"
   ]
  },
  {
   "cell_type": "code",
   "execution_count": null,
   "id": "95b7eb1f-1967-4176-bcfd-8c05655cdc8b",
   "metadata": {},
   "outputs": [],
   "source": []
  },
  {
   "cell_type": "code",
   "execution_count": 17,
   "id": "f10c2275-6e9e-46cc-bf54-0a52004a3703",
   "metadata": {},
   "outputs": [],
   "source": [
    "topic_title_tag0 = topic_title_tags[0]"
   ]
  },
  {
   "cell_type": "code",
   "execution_count": 18,
   "id": "e92368df-9289-49c0-8f0d-aff18925bd6b",
   "metadata": {},
   "outputs": [],
   "source": [
    "div_tag = topic_title_tag0.parent"
   ]
  },
  {
   "cell_type": "code",
   "execution_count": 19,
   "id": "296fd491-bce9-45c6-9a01-6ed39ad278c3",
   "metadata": {},
   "outputs": [
    {
     "data": {
      "text/plain": [
       "<a class=\"no-underline flex-1 d-flex flex-column\" href=\"/topics/3d\">\n",
       "<p class=\"f3 lh-condensed mb-0 mt-1 Link--primary\">3D</p>\n",
       "<p class=\"f5 color-fg-muted mb-0 mt-1\">\n",
       "          3D refers to the use of three-dimensional graphics, modeling, and animation in various industries.\n",
       "        </p>\n",
       "</a>"
      ]
     },
     "execution_count": 19,
     "metadata": {},
     "output_type": "execute_result"
    }
   ],
   "source": [
    "div_tag"
   ]
  },
  {
   "cell_type": "code",
   "execution_count": 20,
   "id": "74d5dc86-5d17-4607-b1a2-eaead0bf9b42",
   "metadata": {},
   "outputs": [],
   "source": [
    "topic_link_tags = doc.find_all('a',{'class':'no-underline flex-1 d-flex flex-column'})"
   ]
  },
  {
   "cell_type": "code",
   "execution_count": 21,
   "id": "1900755b-72d3-4bb1-9bfb-1ab3c0c02197",
   "metadata": {},
   "outputs": [
    {
     "data": {
      "text/plain": [
       "30"
      ]
     },
     "execution_count": 21,
     "metadata": {},
     "output_type": "execute_result"
    }
   ],
   "source": [
    "len(topic_link_tags)"
   ]
  },
  {
   "cell_type": "code",
   "execution_count": 22,
   "id": "b0d09ec7-32f8-4df3-b0f9-893b41ff20ff",
   "metadata": {},
   "outputs": [
    {
     "data": {
      "text/plain": [
       "'/topics/3d'"
      ]
     },
     "execution_count": 22,
     "metadata": {},
     "output_type": "execute_result"
    }
   ],
   "source": [
    "topic_link_tags[0]['href']"
   ]
  },
  {
   "cell_type": "code",
   "execution_count": 23,
   "id": "b0059930-b6ea-4c87-bce8-e3c155580aeb",
   "metadata": {},
   "outputs": [
    {
     "name": "stdout",
     "output_type": "stream",
     "text": [
      "https://github.com/topics/3d\n"
     ]
    }
   ],
   "source": [
    "topic0_url = \"https://github.com\"+topic_link_tags[0]['href']\n",
    "print(topic0_url)"
   ]
  },
  {
   "cell_type": "code",
   "execution_count": 24,
   "id": "8c7745a9-6793-4442-92b2-50b2db89bb86",
   "metadata": {},
   "outputs": [
    {
     "name": "stdout",
     "output_type": "stream",
     "text": [
      "['3D', 'Ajax', 'Algorithm', 'Amp', 'Android', 'Angular', 'Ansible', 'API', 'Arduino', 'ASP.NET', 'Atom', 'Awesome Lists', 'Amazon Web Services', 'Azure', 'Babel', 'Bash', 'Bitcoin', 'Bootstrap', 'Bot', 'C', 'Chrome', 'Chrome extension', 'Command line interface', 'Clojure', 'Code quality', 'Code review', 'Compiler', 'Continuous integration', 'COVID-19', 'C++']\n"
     ]
    }
   ],
   "source": [
    "topic_titles = []\n",
    "\n",
    "for tag in topic_title_tags:\n",
    "    topic_titles.append(tag.text)\n",
    "\n",
    "print(topic_titles)"
   ]
  },
  {
   "cell_type": "code",
   "execution_count": 25,
   "id": "b6b18827-06e8-4a2f-bda5-7d01b506026e",
   "metadata": {},
   "outputs": [
    {
     "name": "stdout",
     "output_type": "stream",
     "text": [
      "['3D refers to the use of three-dimensional graphics, modeling, and animation in various industries.', 'Ajax is a technique for creating interactive web applications.', 'Algorithms are self-contained sequences that carry out a variety of tasks.', 'Amp is a non-blocking concurrency library for PHP.', 'Android is an operating system built by Google designed for mobile devices.']\n"
     ]
    }
   ],
   "source": [
    "topic_descriptions = []\n",
    "\n",
    "for tag in topic_desc_tags:\n",
    "    topic_descriptions.append(tag.text.strip())\n",
    "\n",
    "print(topic_descriptions[:5])"
   ]
  },
  {
   "cell_type": "code",
   "execution_count": 26,
   "id": "32a43c55-1606-44fb-b77c-d5e15c209780",
   "metadata": {},
   "outputs": [
    {
     "data": {
      "text/plain": [
       "['https://github.com/topics/3d',\n",
       " 'https://github.com/topics/ajax',\n",
       " 'https://github.com/topics/algorithm',\n",
       " 'https://github.com/topics/amphp',\n",
       " 'https://github.com/topics/android']"
      ]
     },
     "execution_count": 26,
     "metadata": {},
     "output_type": "execute_result"
    }
   ],
   "source": [
    "topic_urls = []\n",
    "base_url = \"https://github.com\"\n",
    "for tag in topic_link_tags:\n",
    "    topic_urls.append(base_url+tag['href'])\n",
    "\n",
    "topic_urls[:5]"
   ]
  },
  {
   "cell_type": "code",
   "execution_count": 27,
   "id": "92b510ab-7a90-46bc-89d3-577e5049f0a1",
   "metadata": {},
   "outputs": [],
   "source": [
    "import pandas as pd"
   ]
  },
  {
   "cell_type": "code",
   "execution_count": 28,
   "id": "aa4b4a1c-8ecc-4bb6-9d58-4920cdb2e805",
   "metadata": {},
   "outputs": [],
   "source": [
    "topic_dict = {\n",
    "    'title' : topic_titles,\n",
    "    'description' : topic_descriptions,\n",
    "    'Url' : topic_urls\n",
    "}"
   ]
  },
  {
   "cell_type": "code",
   "execution_count": 29,
   "id": "bba14325-939d-4e5c-a425-20fee3828893",
   "metadata": {},
   "outputs": [],
   "source": [
    "df = pd.DataFrame(topic_dict)"
   ]
  },
  {
   "cell_type": "code",
   "execution_count": 30,
   "id": "22ee04ab-f10a-4985-8633-c8afdf429085",
   "metadata": {},
   "outputs": [
    {
     "data": {
      "text/html": [
       "<div>\n",
       "<style scoped>\n",
       "    .dataframe tbody tr th:only-of-type {\n",
       "        vertical-align: middle;\n",
       "    }\n",
       "\n",
       "    .dataframe tbody tr th {\n",
       "        vertical-align: top;\n",
       "    }\n",
       "\n",
       "    .dataframe thead th {\n",
       "        text-align: right;\n",
       "    }\n",
       "</style>\n",
       "<table border=\"1\" class=\"dataframe\">\n",
       "  <thead>\n",
       "    <tr style=\"text-align: right;\">\n",
       "      <th></th>\n",
       "      <th>title</th>\n",
       "      <th>description</th>\n",
       "      <th>Url</th>\n",
       "    </tr>\n",
       "  </thead>\n",
       "  <tbody>\n",
       "    <tr>\n",
       "      <th>0</th>\n",
       "      <td>3D</td>\n",
       "      <td>3D refers to the use of three-dimensional grap...</td>\n",
       "      <td>https://github.com/topics/3d</td>\n",
       "    </tr>\n",
       "    <tr>\n",
       "      <th>1</th>\n",
       "      <td>Ajax</td>\n",
       "      <td>Ajax is a technique for creating interactive w...</td>\n",
       "      <td>https://github.com/topics/ajax</td>\n",
       "    </tr>\n",
       "    <tr>\n",
       "      <th>2</th>\n",
       "      <td>Algorithm</td>\n",
       "      <td>Algorithms are self-contained sequences that c...</td>\n",
       "      <td>https://github.com/topics/algorithm</td>\n",
       "    </tr>\n",
       "    <tr>\n",
       "      <th>3</th>\n",
       "      <td>Amp</td>\n",
       "      <td>Amp is a non-blocking concurrency library for ...</td>\n",
       "      <td>https://github.com/topics/amphp</td>\n",
       "    </tr>\n",
       "    <tr>\n",
       "      <th>4</th>\n",
       "      <td>Android</td>\n",
       "      <td>Android is an operating system built by Google...</td>\n",
       "      <td>https://github.com/topics/android</td>\n",
       "    </tr>\n",
       "  </tbody>\n",
       "</table>\n",
       "</div>"
      ],
      "text/plain": [
       "       title                                        description  \\\n",
       "0         3D  3D refers to the use of three-dimensional grap...   \n",
       "1       Ajax  Ajax is a technique for creating interactive w...   \n",
       "2  Algorithm  Algorithms are self-contained sequences that c...   \n",
       "3        Amp  Amp is a non-blocking concurrency library for ...   \n",
       "4    Android  Android is an operating system built by Google...   \n",
       "\n",
       "                                   Url  \n",
       "0         https://github.com/topics/3d  \n",
       "1       https://github.com/topics/ajax  \n",
       "2  https://github.com/topics/algorithm  \n",
       "3      https://github.com/topics/amphp  \n",
       "4    https://github.com/topics/android  "
      ]
     },
     "execution_count": 30,
     "metadata": {},
     "output_type": "execute_result"
    }
   ],
   "source": [
    "df[:5]"
   ]
  },
  {
   "cell_type": "markdown",
   "id": "54c67508-9c81-40c8-9c31-e726988b5b02",
   "metadata": {},
   "source": [
    "## Create CSV file from extracted Information"
   ]
  },
  {
   "cell_type": "code",
   "execution_count": 31,
   "id": "8495a582-5b87-4a9c-a23f-e9ebb2705a5a",
   "metadata": {},
   "outputs": [],
   "source": [
    "df.to_csv('topics.csv',index = None)"
   ]
  },
  {
   "cell_type": "code",
   "execution_count": null,
   "id": "6b4cafda-9c5b-4afc-a173-b21906470a1b",
   "metadata": {},
   "outputs": [],
   "source": []
  },
  {
   "cell_type": "markdown",
   "id": "1a4955a9-f8f3-4895-b80e-c75f6dae2b3a",
   "metadata": {},
   "source": [
    "## Getting Information out of topic page"
   ]
  },
  {
   "cell_type": "code",
   "execution_count": 32,
   "id": "af3b183f-71ae-482c-8ee6-1de728022112",
   "metadata": {},
   "outputs": [],
   "source": [
    "topic_page_url = topic_urls[0]"
   ]
  },
  {
   "cell_type": "code",
   "execution_count": 33,
   "id": "b5f5ec6f-f395-4ae7-ad5c-178c5a14d331",
   "metadata": {},
   "outputs": [
    {
     "data": {
      "text/plain": [
       "'https://github.com/topics/3d'"
      ]
     },
     "execution_count": 33,
     "metadata": {},
     "output_type": "execute_result"
    }
   ],
   "source": [
    "topic_page_url"
   ]
  },
  {
   "cell_type": "code",
   "execution_count": 34,
   "id": "076670de-bf6e-44dc-971a-692e2d880127",
   "metadata": {},
   "outputs": [],
   "source": [
    "response = requests.get(topic_page_url)"
   ]
  },
  {
   "cell_type": "code",
   "execution_count": 35,
   "id": "d5c6a681-545c-40d8-8bb0-a2a80322800d",
   "metadata": {},
   "outputs": [
    {
     "data": {
      "text/plain": [
       "200"
      ]
     },
     "execution_count": 35,
     "metadata": {},
     "output_type": "execute_result"
    }
   ],
   "source": [
    "response.status_code"
   ]
  },
  {
   "cell_type": "code",
   "execution_count": 36,
   "id": "0dbe18d7-c2b8-4acd-bfa0-4681f79497be",
   "metadata": {},
   "outputs": [
    {
     "data": {
      "text/plain": [
       "488673"
      ]
     },
     "execution_count": 36,
     "metadata": {},
     "output_type": "execute_result"
    }
   ],
   "source": [
    "len(response.text)"
   ]
  },
  {
   "cell_type": "code",
   "execution_count": 37,
   "id": "515118b0-1f7a-4beb-964c-0364ded1cbb6",
   "metadata": {},
   "outputs": [],
   "source": [
    "topic_doc = BeautifulSoup(response.text,'html.parser')"
   ]
  },
  {
   "cell_type": "code",
   "execution_count": 38,
   "id": "e9ce9933-f6cb-4ddf-80e7-20017562b93d",
   "metadata": {},
   "outputs": [],
   "source": [
    "repo_tags = topic_doc.find_all('h3',{'class':'f3 color-fg-muted text-normal lh-condensed'})"
   ]
  },
  {
   "cell_type": "code",
   "execution_count": 39,
   "id": "c102aada-3a9b-41d9-93f2-12dfc81fa760",
   "metadata": {},
   "outputs": [
    {
     "data": {
      "text/plain": [
       "20"
      ]
     },
     "execution_count": 39,
     "metadata": {},
     "output_type": "execute_result"
    }
   ],
   "source": [
    "len(repo_tags)"
   ]
  },
  {
   "cell_type": "code",
   "execution_count": 40,
   "id": "f01f05ef-b176-4dd7-a943-a7749fe836ba",
   "metadata": {},
   "outputs": [
    {
     "data": {
      "text/plain": [
       "<h3 class=\"f3 color-fg-muted text-normal lh-condensed\">\n",
       "<a class=\"Link\" data-hydro-click='{\"event_type\":\"explore.click\",\"payload\":{\"click_context\":\"REPOSITORY_CARD\",\"click_target\":\"OWNER\",\"click_visual_representation\":\"REPOSITORY_OWNER_HEADING\",\"actor_id\":null,\"record_id\":97088,\"originating_url\":\"https://github.com/topics/3d\",\"user_id\":null}}' data-hydro-click-hmac=\"c72fbd5c69a8ee7c9c53a4e65de2b93c8fc7552dd793945819639bc165c0f0ba\" data-turbo=\"false\" data-view-component=\"true\" href=\"/mrdoob\">\n",
       "            mrdoob\n",
       "</a>          /\n",
       "          <a class=\"Link text-bold wb-break-word\" data-hydro-click='{\"event_type\":\"explore.click\",\"payload\":{\"click_context\":\"REPOSITORY_CARD\",\"click_target\":\"REPOSITORY\",\"click_visual_representation\":\"REPOSITORY_NAME_HEADING\",\"actor_id\":null,\"record_id\":576201,\"originating_url\":\"https://github.com/topics/3d\",\"user_id\":null}}' data-hydro-click-hmac=\"4a2667db3d63a1739c412e059e5da95afe419df83f70949b5d59dc3478f5c79a\" data-turbo=\"false\" data-view-component=\"true\" href=\"/mrdoob/three.js\">\n",
       "            three.js\n",
       "</a> </h3>"
      ]
     },
     "execution_count": 40,
     "metadata": {},
     "output_type": "execute_result"
    }
   ],
   "source": [
    "repo_tags[0]"
   ]
  },
  {
   "cell_type": "code",
   "execution_count": 41,
   "id": "adc2303d-e872-4beb-a468-2263f185a9fe",
   "metadata": {},
   "outputs": [],
   "source": [
    "a_tags = repo_tags[0].find_all('a')"
   ]
  },
  {
   "cell_type": "code",
   "execution_count": 42,
   "id": "8ff15bd1-1048-4f94-9c7c-43863afb67ba",
   "metadata": {},
   "outputs": [
    {
     "data": {
      "text/plain": [
       "'mrdoob'"
      ]
     },
     "execution_count": 42,
     "metadata": {},
     "output_type": "execute_result"
    }
   ],
   "source": [
    "a_tags[0].text.strip()"
   ]
  },
  {
   "cell_type": "code",
   "execution_count": 43,
   "id": "8057c932-c54d-45e1-a094-15009ed2ef4d",
   "metadata": {},
   "outputs": [
    {
     "data": {
      "text/plain": [
       "'three.js'"
      ]
     },
     "execution_count": 43,
     "metadata": {},
     "output_type": "execute_result"
    }
   ],
   "source": [
    "a_tags[1].text.strip()"
   ]
  },
  {
   "cell_type": "code",
   "execution_count": 44,
   "id": "3b4df47a-c8d6-489f-a598-2f9372e07745",
   "metadata": {},
   "outputs": [
    {
     "data": {
      "text/plain": [
       "'/mrdoob/three.js'"
      ]
     },
     "execution_count": 44,
     "metadata": {},
     "output_type": "execute_result"
    }
   ],
   "source": [
    "a_tags[1]['href']"
   ]
  },
  {
   "cell_type": "code",
   "execution_count": 45,
   "id": "87e1e38c-fadd-44b1-8642-4e8e3c3ed881",
   "metadata": {},
   "outputs": [
    {
     "data": {
      "text/plain": [
       "'https://github.com/mrdoob/three.js'"
      ]
     },
     "execution_count": 45,
     "metadata": {},
     "output_type": "execute_result"
    }
   ],
   "source": [
    "base_url = \"https://github.com\"\n",
    "repo_url = base_url+a_tags[1]['href']\n",
    "repo_url"
   ]
  },
  {
   "cell_type": "code",
   "execution_count": 46,
   "id": "a3aac9b0-56a5-4fc3-bb7b-7671f581e0fe",
   "metadata": {},
   "outputs": [],
   "source": [
    "star_tags = topic_doc.find_all('span',{'class':'Counter js-social-count'})"
   ]
  },
  {
   "cell_type": "code",
   "execution_count": 47,
   "id": "10aa6f4c-1c2f-458b-ae4f-cfef68e88995",
   "metadata": {},
   "outputs": [
    {
     "data": {
      "text/plain": [
       "20"
      ]
     },
     "execution_count": 47,
     "metadata": {},
     "output_type": "execute_result"
    }
   ],
   "source": [
    "len(star_tags)"
   ]
  },
  {
   "cell_type": "code",
   "execution_count": 48,
   "id": "8fb27962-551a-4c77-b2c4-97f11dab28fc",
   "metadata": {},
   "outputs": [
    {
     "data": {
      "text/plain": [
       "'97.4k'"
      ]
     },
     "execution_count": 48,
     "metadata": {},
     "output_type": "execute_result"
    }
   ],
   "source": [
    "star_tags[0].text"
   ]
  },
  {
   "cell_type": "code",
   "execution_count": 49,
   "id": "3cf66d2e-968f-477c-b50a-85a46ea88926",
   "metadata": {},
   "outputs": [],
   "source": [
    "def parse_star_count(stars_str):\n",
    "    stars_str = stars_str.strip()\n",
    "    if stars_str[-1] == 'k':\n",
    "        return int(float(stars_str[:-1])*1000)\n",
    "    return int(stars_str)"
   ]
  },
  {
   "cell_type": "code",
   "execution_count": 50,
   "id": "785fef9e-8a60-4440-b5ed-edb4cc962f62",
   "metadata": {},
   "outputs": [
    {
     "data": {
      "text/plain": [
       "97400"
      ]
     },
     "execution_count": 50,
     "metadata": {},
     "output_type": "execute_result"
    }
   ],
   "source": [
    "parse_star_count(star_tags[0].text)"
   ]
  },
  {
   "cell_type": "code",
   "execution_count": 51,
   "id": "0ba9e929-4d47-4056-99ec-7c888e1b20a6",
   "metadata": {},
   "outputs": [],
   "source": [
    "def get_repo_info(h3_tag,star_tag):\n",
    "    #return all the required info about repository\n",
    "    a_tags = h3_tag.find_all('a')\n",
    "    username = a_tags[0].text.strip()\n",
    "    repo_name = a_tags[1].text.strip()\n",
    "    repo_url = base_url+a_tags[1]['href']\n",
    "    stars = parse_star_count(star_tag.text)\n",
    "    return username,repo_name,stars,repo_url"
   ]
  },
  {
   "cell_type": "code",
   "execution_count": 52,
   "id": "62a202e6-bed0-4252-b967-f7e8572d12f8",
   "metadata": {},
   "outputs": [
    {
     "data": {
      "text/plain": [
       "('mrdoob', 'three.js', 97400, 'https://github.com/mrdoob/three.js')"
      ]
     },
     "execution_count": 52,
     "metadata": {},
     "output_type": "execute_result"
    }
   ],
   "source": [
    "get_repo_info(repo_tags[0],star_tags[0])"
   ]
  },
  {
   "cell_type": "code",
   "execution_count": 53,
   "id": "04906f42-92c3-4122-a69d-924346e6c53e",
   "metadata": {},
   "outputs": [],
   "source": [
    "topic_repo_dict = {\n",
    "    'username': [],\n",
    "    'repo_name': [],\n",
    "    'stars': [],\n",
    "    'repo_url': []\n",
    "}\n",
    "\n",
    "for i in range(len(repo_tags)):\n",
    "    repo_info = get_repo_info(repo_tags[i],star_tags[i])\n",
    "    topic_repo_dict['username'].append(repo_info[0])\n",
    "    topic_repo_dict['repo_name'].append(repo_info[1])\n",
    "    topic_repo_dict['stars'].append(repo_info[2])\n",
    "    topic_repo_dict['repo_url'].append(repo_info[3])"
   ]
  },
  {
   "cell_type": "markdown",
   "id": "ac4cf6d0-a7f8-4d86-b251-14452b61e47d",
   "metadata": {},
   "source": [
    "## Final Code"
   ]
  },
  {
   "cell_type": "code",
   "execution_count": 88,
   "id": "265420a2-02a4-466b-a370-03e6ae4f95c7",
   "metadata": {},
   "outputs": [],
   "source": [
    "import os\n",
    "def get_topic_page(topic_url):\n",
    "     # Download the page\n",
    "    response = requests.get(topic_url)\n",
    "    # Check successful response\n",
    "    if response.status_code != 200 :\n",
    "        raise Exception('Failed to load page {}'.format(topic_url))\n",
    "    # Parse using beautifulSoup\n",
    "    topic_doc = BeautifulSoup(response.text,'html.parser')\n",
    "    return topic_doc\n",
    "\n",
    "def get_repo_info(h3_tag,star_tag):\n",
    "    #return all the required info about repository\n",
    "    a_tags = h3_tag.find_all('a')\n",
    "    username = a_tags[0].text.strip()\n",
    "    repo_name = a_tags[1].text.strip()\n",
    "    repo_url = base_url+a_tags[1]['href']\n",
    "    stars = parse_star_count(star_tag.text)\n",
    "    return username,repo_name,stars,repo_url\n",
    "\n",
    "def get_topic_repos(topic_doc):\n",
    "   \n",
    "    # Get repo title, repo-url, username\n",
    "    repo_tags = topic_doc.find_all('h3',{'class':'f3 color-fg-muted text-normal lh-condensed'})\n",
    "    # get stars \n",
    "    star_tags = topic_doc.find_all('span',{'class':'Counter js-social-count'})\n",
    "    \n",
    "    topic_repo_dict = {\n",
    "        'username': [],\n",
    "        'repo_name': [],\n",
    "        'stars': [],\n",
    "        'repo_url': []\n",
    "    }\n",
    "    # get repo Info\n",
    "    for i in range(len(repo_tags)):\n",
    "        repo_info = get_repo_info(repo_tags[i],star_tags[i])\n",
    "        topic_repo_dict['username'].append(repo_info[0])\n",
    "        topic_repo_dict['repo_name'].append(repo_info[1])\n",
    "        topic_repo_dict['stars'].append(repo_info[2])\n",
    "        topic_repo_dict['repo_url'].append(repo_info[3])\n",
    "\n",
    "    return pd.DataFrame(topic_repo_dict)\n",
    "\n",
    "def scrape_topic(topic_url,path):\n",
    "    if os.path.exists(path):\n",
    "        print(\"The file already Exists. Skipping...\".format(path))\n",
    "        return\n",
    "    topic_df = get_topic_repos(get_topic_page(topic_url))\n",
    "    topic_df.to_csv(path, index = None)\n"
   ]
  },
  {
   "cell_type": "raw",
   "id": "77a98bc5-8337-4b9a-94c0-20892164b5e8",
   "metadata": {},
   "source": [
    "Write a Single function to:\n",
    "1. Get the list of topics from te topics Page\n",
    "2. Get the list of top repos from Individual topic pages\n",
    "3. For each topic, Create a CSV of top repos for the topic"
   ]
  },
  {
   "cell_type": "code",
   "execution_count": 89,
   "id": "11f8a6d9-77ab-4865-9d8c-56df8da5f5f5",
   "metadata": {},
   "outputs": [],
   "source": [
    "def get_topic_titles(doc):\n",
    "    topic_title_tags = doc.find_all('p',{'class':'f3 lh-condensed mb-0 mt-1 Link--primary'})\n",
    "    topic_titles = []\n",
    "    for tag in topic_title_tags:\n",
    "        topic_titles.append(tag.text)\n",
    "    return topic_titles\n",
    "\n",
    "def get_topic_descs(doc):\n",
    "    topic_desc_tags = doc.find_all('p',{'class':'f5 color-fg-muted mb-0 mt-1'})\n",
    "    topic_descs = []\n",
    "    for tag in topic_desc_tags:\n",
    "        topic_descs.append(tag.text.strip())\n",
    "    return topic_descs\n",
    "\n",
    "def get_topic_urls(doc):\n",
    "    topic_link_tags = doc.find_all('a',{'class':'no-underline flex-1 d-flex flex-column'})\n",
    "    topic_urls = []\n",
    "    base_url = \"https://github.com\"\n",
    "    for tag in topic_link_tags:\n",
    "        topic_urls.append(base_url+tag['href'])\n",
    "    return topic_urls\n",
    "\n",
    "def Scrape_topics():\n",
    "    topics_url = 'https://github.com/topics'\n",
    "    response = requests.get(topics_url)\n",
    "    if response.status_code != 200 :\n",
    "        raise Exception('Failed to load page {}'.format(topic_url))\n",
    "    topics_dict = {\n",
    "    'title' : get_topic_titles(doc),\n",
    "    'description' : get_topic_descs(doc),\n",
    "    'Url' : get_topic_urls(doc)\n",
    "    }\n",
    "    return pd.DataFrame(topics_dict)"
   ]
  },
  {
   "cell_type": "code",
   "execution_count": 92,
   "id": "4b7a9a4f-3547-4546-8267-bcbbd0941ca9",
   "metadata": {
    "scrolled": true
   },
   "outputs": [],
   "source": [
    "def Scrape_topics_repos():\n",
    "    print('Scraping list of topics')\n",
    "    topics_df = Scrape_topics()\n",
    "    # Create a folder\n",
    "    os.makedirs('Github-data',exist_ok=True)\n",
    "    for index, row in topics_df.iterrows():\n",
    "        print('Scraping top repositories for \"{}\"'.format(row['title']))\n",
    "        scrape_topic(row['Url'],'Github-data/{}.csv'.format(row['title']))"
   ]
  },
  {
   "cell_type": "code",
   "execution_count": 93,
   "id": "b57fda52-ae45-4965-a4d3-d940477d6264",
   "metadata": {},
   "outputs": [
    {
     "name": "stdout",
     "output_type": "stream",
     "text": [
      "Scraping list of topics\n",
      "Scraping top repositories for \"3D\"\n",
      "Scraping top repositories for \"Ajax\"\n",
      "Scraping top repositories for \"Algorithm\"\n",
      "Scraping top repositories for \"Amp\"\n",
      "Scraping top repositories for \"Android\"\n",
      "Scraping top repositories for \"Angular\"\n",
      "Scraping top repositories for \"Ansible\"\n",
      "Scraping top repositories for \"API\"\n",
      "Scraping top repositories for \"Arduino\"\n",
      "Scraping top repositories for \"ASP.NET\"\n",
      "Scraping top repositories for \"Atom\"\n",
      "Scraping top repositories for \"Awesome Lists\"\n",
      "Scraping top repositories for \"Amazon Web Services\"\n",
      "Scraping top repositories for \"Azure\"\n",
      "Scraping top repositories for \"Babel\"\n",
      "Scraping top repositories for \"Bash\"\n",
      "Scraping top repositories for \"Bitcoin\"\n",
      "Scraping top repositories for \"Bootstrap\"\n",
      "Scraping top repositories for \"Bot\"\n",
      "Scraping top repositories for \"C\"\n",
      "Scraping top repositories for \"Chrome\"\n",
      "Scraping top repositories for \"Chrome extension\"\n",
      "Scraping top repositories for \"Command line interface\"\n",
      "Scraping top repositories for \"Clojure\"\n",
      "Scraping top repositories for \"Code quality\"\n",
      "Scraping top repositories for \"Code review\"\n",
      "Scraping top repositories for \"Compiler\"\n",
      "Scraping top repositories for \"Continuous integration\"\n",
      "Scraping top repositories for \"COVID-19\"\n",
      "Scraping top repositories for \"C++\"\n"
     ]
    }
   ],
   "source": [
    "Scrape_topics_repos()"
   ]
  },
  {
   "cell_type": "code",
   "execution_count": null,
   "id": "4723ab3d-9209-44d7-9142-46b3c5f7870e",
   "metadata": {},
   "outputs": [],
   "source": []
  }
 ],
 "metadata": {
  "kernelspec": {
   "display_name": "Python 3 (ipykernel)",
   "language": "python",
   "name": "python3"
  },
  "language_info": {
   "codemirror_mode": {
    "name": "ipython",
    "version": 3
   },
   "file_extension": ".py",
   "mimetype": "text/x-python",
   "name": "python",
   "nbconvert_exporter": "python",
   "pygments_lexer": "ipython3",
   "version": "3.11.5"
  }
 },
 "nbformat": 4,
 "nbformat_minor": 5
}
